{
  "nbformat": 4,
  "nbformat_minor": 0,
  "metadata": {
    "colab": {
      "provenance": []
    },
    "kernelspec": {
      "name": "python3",
      "display_name": "Python 3"
    },
    "language_info": {
      "name": "python"
    }
  },
  "cells": [
    {
      "cell_type": "code",
      "execution_count": 2,
      "metadata": {
        "colab": {
          "base_uri": "https://localhost:8080/"
        },
        "id": "xnIhKNb-Qh77",
        "outputId": "196bf682-5df5-4d9f-bde1-232be439bc56"
      },
      "outputs": [
        {
          "output_type": "stream",
          "name": "stdout",
          "text": [
            "Collecting openai\n",
            "  Downloading openai-0.27.8-py3-none-any.whl (73 kB)\n",
            "\u001b[?25l     \u001b[90m━━━━━━━━━━━━━━━━━━━━━━━━━━━━━━━━━━━━━━━━\u001b[0m \u001b[32m0.0/73.6 kB\u001b[0m \u001b[31m?\u001b[0m eta \u001b[36m-:--:--\u001b[0m\r\u001b[2K     \u001b[90m━━━━━━━━━━━━━━━━━━━━━━━━━━━━━━━━━━━━━━━━\u001b[0m \u001b[32m73.6/73.6 kB\u001b[0m \u001b[31m3.3 MB/s\u001b[0m eta \u001b[36m0:00:00\u001b[0m\n",
            "\u001b[?25hRequirement already satisfied: requests>=2.20 in /usr/local/lib/python3.10/dist-packages (from openai) (2.27.1)\n",
            "Requirement already satisfied: tqdm in /usr/local/lib/python3.10/dist-packages (from openai) (4.65.0)\n",
            "Requirement already satisfied: aiohttp in /usr/local/lib/python3.10/dist-packages (from openai) (3.8.4)\n",
            "Requirement already satisfied: urllib3<1.27,>=1.21.1 in /usr/local/lib/python3.10/dist-packages (from requests>=2.20->openai) (1.26.16)\n",
            "Requirement already satisfied: certifi>=2017.4.17 in /usr/local/lib/python3.10/dist-packages (from requests>=2.20->openai) (2023.5.7)\n",
            "Requirement already satisfied: charset-normalizer~=2.0.0 in /usr/local/lib/python3.10/dist-packages (from requests>=2.20->openai) (2.0.12)\n",
            "Requirement already satisfied: idna<4,>=2.5 in /usr/local/lib/python3.10/dist-packages (from requests>=2.20->openai) (3.4)\n",
            "Requirement already satisfied: attrs>=17.3.0 in /usr/local/lib/python3.10/dist-packages (from aiohttp->openai) (23.1.0)\n",
            "Requirement already satisfied: multidict<7.0,>=4.5 in /usr/local/lib/python3.10/dist-packages (from aiohttp->openai) (6.0.4)\n",
            "Requirement already satisfied: async-timeout<5.0,>=4.0.0a3 in /usr/local/lib/python3.10/dist-packages (from aiohttp->openai) (4.0.2)\n",
            "Requirement already satisfied: yarl<2.0,>=1.0 in /usr/local/lib/python3.10/dist-packages (from aiohttp->openai) (1.9.2)\n",
            "Requirement already satisfied: frozenlist>=1.1.1 in /usr/local/lib/python3.10/dist-packages (from aiohttp->openai) (1.3.3)\n",
            "Requirement already satisfied: aiosignal>=1.1.2 in /usr/local/lib/python3.10/dist-packages (from aiohttp->openai) (1.3.1)\n",
            "Installing collected packages: openai\n",
            "Successfully installed openai-0.27.8\n"
          ]
        }
      ],
      "source": [
        "pip install openai"
      ]
    },
    {
      "cell_type": "code",
      "source": [
        "import openai"
      ],
      "metadata": {
        "id": "PL3igZ2LQv3_"
      },
      "execution_count": 3,
      "outputs": []
    },
    {
      "cell_type": "code",
      "source": [
        "openai.api_key = \"Your API\"\n",
        "\n",
        "completion = openai.ChatCompletion.create(model=\"gpt-3.5-turbo\", messages=[{\"role\": \"user\", \"content\": \"Give me 3 ideas for apps I could build with openai apis \"}])\n",
        "print(completion.choices[0].message.content)"
      ],
      "metadata": {
        "id": "xfxs5MqDQ0ux",
        "outputId": "4cc73453-d6c6-4289-ad67-39dfe3da7054",
        "colab": {
          "base_uri": "https://localhost:8080/"
        }
      },
      "execution_count": 7,
      "outputs": [
        {
          "output_type": "stream",
          "name": "stdout",
          "text": [
            "Here are three app ideas that you could build using OpenAI APIs:\n",
            "\n",
            "1. Language Tutor: Develop an interactive language learning app that uses OpenAI's natural language processing capabilities. The app can provide personalized lessons, vocabulary drills, and grammar exercises based on the user's proficiency level. OpenAI APIs can help generate interactive conversational exercises, correct sentence structures, and provide contextual translations, making the learning experience more engaging and efficient.\n",
            "\n",
            "2. Content Generation Assistant: Build an AI-powered content generation app that tailors blog posts, social media updates, and articles based on user input. Users can specify the general topic, tone, and target audience, and OpenAI's language generation API can dynamically create unique and engaging content in real-time. This app can save time for content creators and help maintain consistent and high-quality writing standards.\n",
            "\n",
            "3. Personalized Virtual Assistant: Develop a virtual assistant app that goes beyond basic voice commands and offers in-depth conversational interactions. OpenAI's chat model API enables you to build a virtual assistant that can answer complex questions, provide detailed explanations, help with research, and assist with various tasks. The app can integrate with calendars, reminders, and other productivity tools to create a seamless virtual assistant experience.\n"
          ]
        }
      ]
    },
    {
      "cell_type": "code",
      "source": [
        "completion = openai.ChatCompletion.create(model=\"gpt-3.5-turbo\", messages=[{\"role\": \"user\", \"content\": \"Give the roadmap to become the best software engineer \"}])\n",
        "print(completion.choices[0].message.content)"
      ],
      "metadata": {
        "colab": {
          "base_uri": "https://localhost:8080/"
        },
        "id": "j4hs7TRKV3cF",
        "outputId": "632c3dc9-52b7-4aa8-b367-e4ca5b08a733"
      },
      "execution_count": 8,
      "outputs": [
        {
          "output_type": "stream",
          "name": "stdout",
          "text": [
            "1. Solidify your foundation: Start by gaining a strong understanding of the fundamental concepts of software engineering, such as data structures, algorithms, and object-oriented programming. Take computer science courses, read textbooks, and practice implementing these concepts in real-world projects.\n",
            "\n",
            "2. Master programming languages: Become proficient in multiple programming languages, such as Java, Python, C++, or JavaScript. Each language has its own strengths and is used in different domains, so being versatile will make you more valuable as a software engineer.\n",
            "\n",
            "3. Learn software development methodologies: Familiarize yourself with different software development methodologies like Agile, Scrum, and Kanban. Understand how to effectively plan, collaborate, and iterate on projects in a team environment.\n",
            "\n",
            "4. Gain practical experience: Build a strong portfolio of projects to demonstrate your skills and experience. Contribute to open-source projects, participate in coding competitions, and seek internships or part-time jobs to gain hands-on experience in developing real-world applications.\n",
            "\n",
            "5. Focus on specialization: Identify an area of software engineering that interests you the most and focus on becoming an expert in that specific domain. It could be mobile app development, web development, data science, artificial intelligence, or cybersecurity. Specializing will help you stand out and become a go-to professional in your chosen field.\n",
            "\n",
            "6. Stay updated with emerging technologies: The field of software engineering is dynamic, with new technologies and frameworks constantly emerging. Stay updated with the latest trends, attend conferences and seminars, and constantly upskill yourself. This will ensure your knowledge and skills remain relevant.\n",
            "\n",
            "7. Build a network: Cultivate relationships with other software engineers and professionals in the industry. Attend local meetups, join online communities, and actively participate in discussions and forums. Networking will open doors to new opportunities, collaborations, and learning experiences.\n",
            "\n",
            "8. Continuously learn and improve: Never stop learning and evolving as a software engineer. Keep refining your skills, learning new programming languages, exploring new tools, and staying up to date with best practices. The best software engineers have a growth mindset and are constantly striving for improvement.\n",
            "\n",
            "9. Develop soft skills: Alongside technical skills, focus on developing strong communication, problem-solving, and teamwork skills. Being able to effectively communicate, collaborate, and empathize with others is crucial for a successful software engineering career.\n",
            "\n",
            "10. Embrace lifelong learning: Software engineering is a rapidly evolving field, and to stay at the top, you must keep learning throughout your career. Pursue advanced certifications, take online courses, collaborate on side projects, and seek mentorship. Continuous learning will ensure you remain competitive and at the forefront of the industry.\n",
            "\n",
            "Remember, becoming the best software engineer is a journey that requires dedication, perseverance, and a genuine passion for the craft.\n"
          ]
        }
      ]
    }
  ]
}